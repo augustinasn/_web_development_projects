{
 "cells": [
  {
   "cell_type": "code",
   "execution_count": 127,
   "metadata": {},
   "outputs": [],
   "source": [
    "import tabula\n",
    "import os\n",
    "import re\n",
    "import openpyxl\n",
    "\n",
    "import pandas as pd"
   ]
  },
  {
   "cell_type": "code",
   "execution_count": 118,
   "metadata": {},
   "outputs": [],
   "source": [
    "def merge_cols_to_str(df):\n",
    "    str_output = \"\"\n",
    "    \n",
    "    for i in range(df.shape[1]):\n",
    "        str_output += str(df.iloc[0][i])\n",
    "    \n",
    "    return str_output\n",
    "\n",
    "def fix_date(str):\n",
    "    str_new = re.findall(r\"[\\d]+\", str)\n",
    "    str_new = \"\".join(str_new)\n",
    "    str_new = str_new.replace(\" \", \"\")\n",
    "    \n",
    "    return str_new\n",
    "\n",
    "def scrape_vat_return(fp):\n",
    "    result = {}\n",
    "\n",
    "    for key, val in coordinates.items():\n",
    "        df = tabula.read_pdf(fp,\n",
    "                             pages=1,\n",
    "                             stream=True,\n",
    "                             area=val,\n",
    "                             pandas_options={'header': None})\n",
    "\n",
    "        result[key] = merge_cols_to_str(df[0])\n",
    "    \n",
    "    result[\"date_from\"] = fix_date(result[\"date_from\"])\n",
    "    result[\"date_to\"] = fix_date(result[\"date_to\"])\n",
    "    result[\"code\"] = int(result[\"code\"])\n",
    "    result[\"vat_receivable_payable\"] = float(result[\"vat_receivable_payable\"])\n",
    "\n",
    "    return result\n",
    "\n",
    "def scrape(filepaths):\n",
    "    results = []\n",
    "    \n",
    "    for fp in filepaths:\n",
    "        vat_return = scrape_vat_return(fp)\n",
    "        results.append(vat_return)\n",
    "    \n",
    "    return results\n",
    "    "
   ]
  },
  {
   "cell_type": "code",
   "execution_count": 119,
   "metadata": {},
   "outputs": [],
   "source": [
    "coordinates = {\n",
    "    \"name\": (101.248, 112.111, 129.928, 570.117),\n",
    "    \"code\": (129.058, 115.588, 154.262, 279.844),\n",
    "    \"vat_code\": (129.928, 347.632, 160.345, 566.64),\n",
    "    \"date_from\": (260.29, 98.206, 286.362, 250.295),\n",
    "    \"date_to\": (261.159, 268.546, 284.624, 423.242),\n",
    "    \"vat_receivable_payable\": (697.437, 465.827, 727.855, 572.724)    \n",
    "}\n",
    "\n",
    "filepaths = [\".\\\\forms\\\\2020-04.pdf\",\n",
    "             \".\\\\forms\\\\2020-05.pdf\"]"
   ]
  },
  {
   "cell_type": "code",
   "execution_count": 120,
   "metadata": {
    "scrolled": true
   },
   "outputs": [
    {
     "name": "stderr",
     "output_type": "stream",
     "text": [
      "Got stderr: Geg 06, 2020 3:56:04 PM org.apache.pdfbox.pdmodel.font.PDCIDFontType2 <init>\n",
      "INFO: OpenType Layout tables used in font CIDFont+F1 are not implemented in PDFBox and will be ignored\n",
      "Geg 06, 2020 3:56:04 PM org.apache.pdfbox.pdmodel.font.PDCIDFontType2 <init>\n",
      "INFO: OpenType Layout tables used in font CIDFont+F2 are not implemented in PDFBox and will be ignored\n",
      "\n",
      "Got stderr: Geg 06, 2020 3:56:05 PM org.apache.pdfbox.pdmodel.font.PDCIDFontType2 <init>\n",
      "INFO: OpenType Layout tables used in font CIDFont+F1 are not implemented in PDFBox and will be ignored\n",
      "Geg 06, 2020 3:56:05 PM org.apache.pdfbox.pdmodel.font.PDCIDFontType2 <init>\n",
      "INFO: OpenType Layout tables used in font CIDFont+F2 are not implemented in PDFBox and will be ignored\n",
      "\n",
      "Got stderr: Geg 06, 2020 3:56:07 PM org.apache.pdfbox.pdmodel.font.PDCIDFontType2 <init>\n",
      "INFO: OpenType Layout tables used in font CIDFont+F1 are not implemented in PDFBox and will be ignored\n",
      "Geg 06, 2020 3:56:07 PM org.apache.pdfbox.pdmodel.font.PDCIDFontType2 <init>\n",
      "INFO: OpenType Layout tables used in font CIDFont+F2 are not implemented in PDFBox and will be ignored\n",
      "\n",
      "Got stderr: Geg 06, 2020 3:56:08 PM org.apache.pdfbox.pdmodel.font.PDCIDFontType2 <init>\n",
      "INFO: OpenType Layout tables used in font CIDFont+F1 are not implemented in PDFBox and will be ignored\n",
      "Geg 06, 2020 3:56:08 PM org.apache.pdfbox.pdmodel.font.PDCIDFontType2 <init>\n",
      "INFO: OpenType Layout tables used in font CIDFont+F2 are not implemented in PDFBox and will be ignored\n",
      "\n",
      "Got stderr: Geg 06, 2020 3:56:09 PM org.apache.pdfbox.pdmodel.font.PDCIDFontType2 <init>\n",
      "INFO: OpenType Layout tables used in font CIDFont+F1 are not implemented in PDFBox and will be ignored\n",
      "Geg 06, 2020 3:56:09 PM org.apache.pdfbox.pdmodel.font.PDCIDFontType2 <init>\n",
      "INFO: OpenType Layout tables used in font CIDFont+F2 are not implemented in PDFBox and will be ignored\n",
      "\n",
      "Got stderr: Geg 06, 2020 3:56:10 PM org.apache.pdfbox.pdmodel.font.PDCIDFontType2 <init>\n",
      "INFO: OpenType Layout tables used in font CIDFont+F1 are not implemented in PDFBox and will be ignored\n",
      "Geg 06, 2020 3:56:10 PM org.apache.pdfbox.pdmodel.font.PDCIDFontType2 <init>\n",
      "INFO: OpenType Layout tables used in font CIDFont+F2 are not implemented in PDFBox and will be ignored\n",
      "\n",
      "Got stderr: Geg 06, 2020 3:56:11 PM org.apache.pdfbox.pdmodel.font.PDCIDFontType2 <init>\n",
      "INFO: OpenType Layout tables used in font CIDFont+F1 are not implemented in PDFBox and will be ignored\n",
      "Geg 06, 2020 3:56:11 PM org.apache.pdfbox.pdmodel.font.PDCIDFontType2 <init>\n",
      "INFO: OpenType Layout tables used in font CIDFont+F2 are not implemented in PDFBox and will be ignored\n",
      "\n",
      "Got stderr: Geg 06, 2020 3:56:12 PM org.apache.pdfbox.pdmodel.font.PDCIDFontType2 <init>\n",
      "INFO: OpenType Layout tables used in font CIDFont+F1 are not implemented in PDFBox and will be ignored\n",
      "Geg 06, 2020 3:56:12 PM org.apache.pdfbox.pdmodel.font.PDCIDFontType2 <init>\n",
      "INFO: OpenType Layout tables used in font CIDFont+F2 are not implemented in PDFBox and will be ignored\n",
      "\n",
      "Got stderr: Geg 06, 2020 3:56:13 PM org.apache.pdfbox.pdmodel.font.PDCIDFontType2 <init>\n",
      "INFO: OpenType Layout tables used in font CIDFont+F1 are not implemented in PDFBox and will be ignored\n",
      "Geg 06, 2020 3:56:13 PM org.apache.pdfbox.pdmodel.font.PDCIDFontType2 <init>\n",
      "INFO: OpenType Layout tables used in font CIDFont+F2 are not implemented in PDFBox and will be ignored\n",
      "\n",
      "Got stderr: Geg 06, 2020 3:56:14 PM org.apache.pdfbox.pdmodel.font.PDCIDFontType2 <init>\n",
      "INFO: OpenType Layout tables used in font CIDFont+F1 are not implemented in PDFBox and will be ignored\n",
      "Geg 06, 2020 3:56:14 PM org.apache.pdfbox.pdmodel.font.PDCIDFontType2 <init>\n",
      "INFO: OpenType Layout tables used in font CIDFont+F2 are not implemented in PDFBox and will be ignored\n",
      "\n",
      "Got stderr: Geg 06, 2020 3:56:15 PM org.apache.pdfbox.pdmodel.font.PDCIDFontType2 <init>\n",
      "INFO: OpenType Layout tables used in font CIDFont+F1 are not implemented in PDFBox and will be ignored\n",
      "Geg 06, 2020 3:56:15 PM org.apache.pdfbox.pdmodel.font.PDCIDFontType2 <init>\n",
      "INFO: OpenType Layout tables used in font CIDFont+F2 are not implemented in PDFBox and will be ignored\n",
      "\n",
      "Got stderr: Geg 06, 2020 3:56:16 PM org.apache.pdfbox.pdmodel.font.PDCIDFontType2 <init>\n",
      "INFO: OpenType Layout tables used in font CIDFont+F1 are not implemented in PDFBox and will be ignored\n",
      "Geg 06, 2020 3:56:16 PM org.apache.pdfbox.pdmodel.font.PDCIDFontType2 <init>\n",
      "INFO: OpenType Layout tables used in font CIDFont+F2 are not implemented in PDFBox and will be ignored\n",
      "\n"
     ]
    },
    {
     "data": {
      "text/plain": [
       "[{'name': 'UAB\"PRICE WATERHOUSECOOPERS\"',\n",
       "  'code': 111473315,\n",
       "  'vat_code': 'LT114733113',\n",
       "  'date_from': '20200401',\n",
       "  'date_to': '20200430',\n",
       "  'vat_receivable_payable': 4100.0},\n",
       " {'name': 'UAB\"PRICE WATERHOUSECOOPERS\"',\n",
       "  'code': 111473315,\n",
       "  'vat_code': 'LT114733113',\n",
       "  'date_from': '20200501',\n",
       "  'date_to': '20200531',\n",
       "  'vat_receivable_payable': 2000.0}]"
      ]
     },
     "execution_count": 120,
     "metadata": {},
     "output_type": "execute_result"
    }
   ],
   "source": [
    "vat_returns = scrape(filepaths)\n",
    "\n",
    "vat_returns"
   ]
  },
  {
   "cell_type": "code",
   "execution_count": 124,
   "metadata": {},
   "outputs": [
    {
     "data": {
      "text/html": [
       "<div>\n",
       "<style scoped>\n",
       "    .dataframe tbody tr th:only-of-type {\n",
       "        vertical-align: middle;\n",
       "    }\n",
       "\n",
       "    .dataframe tbody tr th {\n",
       "        vertical-align: top;\n",
       "    }\n",
       "\n",
       "    .dataframe thead th {\n",
       "        text-align: right;\n",
       "    }\n",
       "</style>\n",
       "<table border=\"1\" class=\"dataframe\">\n",
       "  <thead>\n",
       "    <tr style=\"text-align: right;\">\n",
       "      <th></th>\n",
       "      <th>name</th>\n",
       "      <th>code</th>\n",
       "      <th>vat_code</th>\n",
       "      <th>date_from</th>\n",
       "      <th>date_to</th>\n",
       "      <th>vat_receivable_payable</th>\n",
       "    </tr>\n",
       "  </thead>\n",
       "  <tbody>\n",
       "    <tr>\n",
       "      <th>0</th>\n",
       "      <td>UAB\"PRICE WATERHOUSECOOPERS\"</td>\n",
       "      <td>111473315</td>\n",
       "      <td>LT114733113</td>\n",
       "      <td>2020-04-01</td>\n",
       "      <td>2020-04-30</td>\n",
       "      <td>4100.0</td>\n",
       "    </tr>\n",
       "    <tr>\n",
       "      <th>1</th>\n",
       "      <td>UAB\"PRICE WATERHOUSECOOPERS\"</td>\n",
       "      <td>111473315</td>\n",
       "      <td>LT114733113</td>\n",
       "      <td>2020-05-01</td>\n",
       "      <td>2020-05-31</td>\n",
       "      <td>2000.0</td>\n",
       "    </tr>\n",
       "  </tbody>\n",
       "</table>\n",
       "</div>"
      ],
      "text/plain": [
       "                           name       code     vat_code  date_from    date_to  \\\n",
       "0  UAB\"PRICE WATERHOUSECOOPERS\"  111473315  LT114733113 2020-04-01 2020-04-30   \n",
       "1  UAB\"PRICE WATERHOUSECOOPERS\"  111473315  LT114733113 2020-05-01 2020-05-31   \n",
       "\n",
       "   vat_receivable_payable  \n",
       "0                  4100.0  \n",
       "1                  2000.0  "
      ]
     },
     "execution_count": 124,
     "metadata": {},
     "output_type": "execute_result"
    }
   ],
   "source": [
    "df = pd.DataFrame(vat_returns)\n",
    "\n",
    "df[\"date_from\"] = pd.to_datetime(df[\"date_from\"])\n",
    "df[\"date_to\"] = pd.to_datetime(df[\"date_to\"])\n",
    "\n",
    "df = df.sort_values(by=[\"code\", \"date_from\"])\n",
    "\n",
    "df.head()"
   ]
  },
  {
   "cell_type": "code",
   "execution_count": 128,
   "metadata": {},
   "outputs": [],
   "source": [
    "df.to_excel(\"output.xlsx\") "
   ]
  },
  {
   "cell_type": "code",
   "execution_count": null,
   "metadata": {},
   "outputs": [],
   "source": []
  }
 ],
 "metadata": {
  "kernelspec": {
   "display_name": "Python 3",
   "language": "python",
   "name": "python3"
  },
  "language_info": {
   "codemirror_mode": {
    "name": "ipython",
    "version": 3
   },
   "file_extension": ".py",
   "mimetype": "text/x-python",
   "name": "python",
   "nbconvert_exporter": "python",
   "pygments_lexer": "ipython3",
   "version": "3.7.7"
  }
 },
 "nbformat": 4,
 "nbformat_minor": 4
}
